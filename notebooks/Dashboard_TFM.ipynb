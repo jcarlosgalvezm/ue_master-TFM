{
  "nbformat": 4,
  "nbformat_minor": 0,
  "metadata": {
    "colab": {
      "name": "Dashboard - TFM.ipynb",
      "provenance": [],
      "collapsed_sections": []
    },
    "kernelspec": {
      "name": "python3",
      "display_name": "Python 3"
    },
    "language_info": {
      "name": "python"
    }
  },
  "cells": [
    {
      "cell_type": "code",
      "metadata": {
        "id": "pY5HmHcTnYdQ",
        "colab": {
          "base_uri": "https://localhost:8080/"
        },
        "outputId": "c768693a-a54a-47ca-8654-863c530ed0c6"
      },
      "source": [
        "!pip -q install jupyter-dash\n",
        "!pip -q install --upgrade plotly\n",
        "!pip -q install dash_bootstrap_components\n",
        "\n",
        "!pip -q install ibmcloudant>=0.0.33\n",
        "!pip -q install ibm-cloud-sdk-core>=3.9.0\n",
        "!pip -q install ibm-cos-sdk>=2.10.0"
      ],
      "execution_count": null,
      "outputs": [
        {
          "output_type": "stream",
          "text": [
            "\u001b[K     |████████████████████████████████| 81kB 5.6MB/s \n",
            "\u001b[K     |████████████████████████████████| 1.0MB 32.0MB/s \n",
            "\u001b[K     |████████████████████████████████| 3.5MB 37.1MB/s \n",
            "\u001b[K     |████████████████████████████████| 92kB 9.6MB/s \n",
            "\u001b[K     |████████████████████████████████| 1.8MB 37.6MB/s \n",
            "\u001b[K     |████████████████████████████████| 358kB 42.3MB/s \n",
            "\u001b[?25h  Building wheel for dash (setup.py) ... \u001b[?25l\u001b[?25hdone\n",
            "  Building wheel for dash-renderer (setup.py) ... \u001b[?25l\u001b[?25hdone\n",
            "  Building wheel for dash-core-components (setup.py) ... \u001b[?25l\u001b[?25hdone\n",
            "  Building wheel for dash-html-components (setup.py) ... \u001b[?25l\u001b[?25hdone\n",
            "  Building wheel for dash-table (setup.py) ... \u001b[?25l\u001b[?25hdone\n",
            "\u001b[K     |████████████████████████████████| 19.1MB 1.5MB/s \n",
            "\u001b[K     |████████████████████████████████| 194kB 6.4MB/s \n",
            "\u001b[?25h"
          ],
          "name": "stdout"
        }
      ]
    },
    {
      "cell_type": "code",
      "metadata": {
        "id": "eqkcOhv5n3FW"
      },
      "source": [
        "import plotly.express as px\n",
        "from jupyter_dash import JupyterDash\n",
        "import dash_core_components as dcc\n",
        "import dash_html_components as html\n",
        "import dash_bootstrap_components as dbc\n",
        "from dash.dependencies import Input, Output\n",
        "\n",
        "import pandas as pd\n",
        "import os\n",
        "import json\n",
        "from ibmcloudant.cloudant_v1 import CloudantV1\n",
        "from ibm_botocore.client import Config\n",
        "import ibm_boto3\n",
        "from io import BytesIO"
      ],
      "execution_count": null,
      "outputs": []
    },
    {
      "cell_type": "code",
      "metadata": {
        "id": "FZoBiwk5NCZa"
      },
      "source": [
        "TEMPLATE = 'plotly_white'\n",
        "COLORMAP = px.colors.diverging.balance"
      ],
      "execution_count": null,
      "outputs": []
    },
    {
      "cell_type": "markdown",
      "metadata": {
        "id": "_4Tf3r0DMauW"
      },
      "source": [
        "### Base de datos original"
      ]
    },
    {
      "cell_type": "code",
      "metadata": {
        "id": "YskepHT7cymw"
      },
      "source": [
        "COS_ENDPOINT = \"https://s3.fra.eu.cloud-object-storage.appdomain.cloud\"\n",
        "COS_API_KEY_ID = \"3yiHID6Tkcj0xtCywqU18UVfrEeraqsAKLwOm3O94YRN\"\n",
        "COS_INSTANCE_CRN = \"fef11c7d-529e-4e45-9daf-e7f424189277\"\n",
        "\n",
        "os.environ[\"MODEL_CATALOG_TFM_URL\"] = 'https://108eeb7e-1bfd-4caa-b305-9f0e89fa4cae-bluemix.cloudantnosqldb.appdomain.cloud'\n",
        "os.environ[\"MODEL_CATALOG_TFM_APIKEY\"] = 'lky1auqtTJzVWseuP41A0MCQvUHKmTaycGEK808kh0pR'"
      ],
      "execution_count": null,
      "outputs": []
    },
    {
      "cell_type": "code",
      "metadata": {
        "id": "pZcbWR9kcbEA"
      },
      "source": [
        "cos_client = ibm_boto3.client(\"s3\",\n",
        "        ibm_api_key_id=COS_API_KEY_ID,\n",
        "        ibm_service_instance_id=COS_INSTANCE_CRN,\n",
        "        config=Config(signature_version=\"oauth\"),\n",
        "        endpoint_url=COS_ENDPOINT\n",
        "    )"
      ],
      "execution_count": null,
      "outputs": []
    },
    {
      "cell_type": "code",
      "metadata": {
        "id": "iZr_q8P6waZl"
      },
      "source": [
        "client = CloudantV1.new_instance(service_name=\"MODEL_CATALOG_TFM\")\n",
        "db_name = \"predictions\"\n",
        "\n",
        "response_predictions = client.post_all_docs(\n",
        "  db=db_name,\n",
        "  include_docs=True\n",
        ").get_result()"
      ],
      "execution_count": null,
      "outputs": []
    },
    {
      "cell_type": "code",
      "metadata": {
        "colab": {
          "base_uri": "https://localhost:8080/",
          "height": 204
        },
        "id": "h99VwsIHdEpI",
        "outputId": "dc3e4234-07e8-4e68-a337-809cd0c5fd08"
      },
      "source": [
        "ds_job = cos_client.get_object(Bucket='cos-ia-online-bbn-group04-data', Key='ds_job.csv')\n",
        "DATA_BYTES = BytesIO(ds_job['Body'].read())\n",
        "\n",
        "df = pd.read_csv(DATA_BYTES, sep=\",\")\n",
        "df.head()"
      ],
      "execution_count": null,
      "outputs": [
        {
          "output_type": "execute_result",
          "data": {
            "text/html": [
              "<div>\n",
              "<style scoped>\n",
              "    .dataframe tbody tr th:only-of-type {\n",
              "        vertical-align: middle;\n",
              "    }\n",
              "\n",
              "    .dataframe tbody tr th {\n",
              "        vertical-align: top;\n",
              "    }\n",
              "\n",
              "    .dataframe thead th {\n",
              "        text-align: right;\n",
              "    }\n",
              "</style>\n",
              "<table border=\"1\" class=\"dataframe\">\n",
              "  <thead>\n",
              "    <tr style=\"text-align: right;\">\n",
              "      <th></th>\n",
              "      <th>empleado_id</th>\n",
              "      <th>ciudad</th>\n",
              "      <th>indice_desarrollo_ciudad</th>\n",
              "      <th>genero</th>\n",
              "      <th>experiencia_relevante</th>\n",
              "      <th>universidad_matriculado</th>\n",
              "      <th>nivel_educacion</th>\n",
              "      <th>educacion</th>\n",
              "      <th>experiencia</th>\n",
              "      <th>tamano_compania</th>\n",
              "      <th>tipo_compania</th>\n",
              "      <th>ultimo_nuevo_trabajo</th>\n",
              "      <th>horas_formacion</th>\n",
              "      <th>target</th>\n",
              "    </tr>\n",
              "  </thead>\n",
              "  <tbody>\n",
              "    <tr>\n",
              "      <th>0</th>\n",
              "      <td>8949</td>\n",
              "      <td>city_103</td>\n",
              "      <td>0.920</td>\n",
              "      <td>Male</td>\n",
              "      <td>Has relevent experience</td>\n",
              "      <td>no_enrollment</td>\n",
              "      <td>Graduate</td>\n",
              "      <td>STEM</td>\n",
              "      <td>&gt;20</td>\n",
              "      <td>NaN</td>\n",
              "      <td>NaN</td>\n",
              "      <td>1</td>\n",
              "      <td>36</td>\n",
              "      <td>1.0</td>\n",
              "    </tr>\n",
              "    <tr>\n",
              "      <th>1</th>\n",
              "      <td>29725</td>\n",
              "      <td>city_40</td>\n",
              "      <td>0.776</td>\n",
              "      <td>Male</td>\n",
              "      <td>No relevent experience</td>\n",
              "      <td>no_enrollment</td>\n",
              "      <td>Graduate</td>\n",
              "      <td>STEM</td>\n",
              "      <td>15</td>\n",
              "      <td>50-99</td>\n",
              "      <td>Pvt Ltd</td>\n",
              "      <td>&gt;4</td>\n",
              "      <td>47</td>\n",
              "      <td>0.0</td>\n",
              "    </tr>\n",
              "    <tr>\n",
              "      <th>2</th>\n",
              "      <td>11561</td>\n",
              "      <td>city_21</td>\n",
              "      <td>0.624</td>\n",
              "      <td>NaN</td>\n",
              "      <td>No relevent experience</td>\n",
              "      <td>Full time course</td>\n",
              "      <td>Graduate</td>\n",
              "      <td>STEM</td>\n",
              "      <td>5</td>\n",
              "      <td>NaN</td>\n",
              "      <td>NaN</td>\n",
              "      <td>never</td>\n",
              "      <td>83</td>\n",
              "      <td>0.0</td>\n",
              "    </tr>\n",
              "    <tr>\n",
              "      <th>3</th>\n",
              "      <td>33241</td>\n",
              "      <td>city_115</td>\n",
              "      <td>0.789</td>\n",
              "      <td>NaN</td>\n",
              "      <td>No relevent experience</td>\n",
              "      <td>NaN</td>\n",
              "      <td>Graduate</td>\n",
              "      <td>Business Degree</td>\n",
              "      <td>&lt;1</td>\n",
              "      <td>NaN</td>\n",
              "      <td>Pvt Ltd</td>\n",
              "      <td>never</td>\n",
              "      <td>52</td>\n",
              "      <td>1.0</td>\n",
              "    </tr>\n",
              "    <tr>\n",
              "      <th>4</th>\n",
              "      <td>666</td>\n",
              "      <td>city_162</td>\n",
              "      <td>0.767</td>\n",
              "      <td>Male</td>\n",
              "      <td>Has relevent experience</td>\n",
              "      <td>no_enrollment</td>\n",
              "      <td>Masters</td>\n",
              "      <td>STEM</td>\n",
              "      <td>&gt;20</td>\n",
              "      <td>50-99</td>\n",
              "      <td>Funded Startup</td>\n",
              "      <td>4</td>\n",
              "      <td>8</td>\n",
              "      <td>0.0</td>\n",
              "    </tr>\n",
              "  </tbody>\n",
              "</table>\n",
              "</div>"
            ],
            "text/plain": [
              "   empleado_id    ciudad  ...  horas_formacion target\n",
              "0         8949  city_103  ...               36    1.0\n",
              "1        29725   city_40  ...               47    0.0\n",
              "2        11561   city_21  ...               83    0.0\n",
              "3        33241  city_115  ...               52    1.0\n",
              "4          666  city_162  ...                8    0.0\n",
              "\n",
              "[5 rows x 14 columns]"
            ]
          },
          "metadata": {
            "tags": []
          },
          "execution_count": 7
        }
      ]
    },
    {
      "cell_type": "code",
      "metadata": {
        "colab": {
          "base_uri": "https://localhost:8080/"
        },
        "id": "UUNFKhXYOGjW",
        "outputId": "2a1ffcd8-85ca-4e1c-8806-7f2c0b333abb"
      },
      "source": [
        "for res_row in response_predictions['rows']:\n",
        "  dic_row = dict(res_row['doc'])\n",
        "  del dic_row['_id']\n",
        "  del dic_row['_rev']\n",
        "  del dic_row['model_version']\n",
        "\n",
        "  if dic_row['empleado_id'] not in df.empleado_id.values:\n",
        "    print(dic_row)\n",
        "    df = df.append(dic_row, ignore_index=True)"
      ],
      "execution_count": null,
      "outputs": [
        {
          "output_type": "stream",
          "text": [
            "{'ciudad': 'Sabadell', 'indice_desarrollo_ciudad': 0.0, 'genero': 'Male', 'experiencia_relevante': 'Has relevent experience', 'universidad_matriculado': 'no_enrollment', 'nivel_educacion': 'Graduate', 'educacion': 'STEM', 'experiencia': '<1', 'tamano_compania': '<10', 'tipo_compania': 'Pvt Ltd', 'ultimo_nuevo_trabajo': '1', 'horas_formacion': 10, 'target': 1.0, 'empleado_id': 123}\n",
            "{'ciudad': 'Barcelona', 'indice_desarrollo_ciudad': 0.0, 'genero': 'Male', 'experiencia_relevante': 'Has relevent experience', 'universidad_matriculado': 'no_enrollment', 'nivel_educacion': 'Graduate', 'educacion': 'STEM', 'experiencia': '<1', 'tamano_compania': '<10', 'tipo_compania': 'Pvt Ltd', 'ultimo_nuevo_trabajo': '1', 'horas_formacion': 1, 'target': 1.0, 'empleado_id': 1000999}\n"
          ],
          "name": "stdout"
        }
      ]
    },
    {
      "cell_type": "code",
      "metadata": {
        "id": "w56lmrP2wYUm"
      },
      "source": [
        "df.set_index('empleado_id', inplace=True)"
      ],
      "execution_count": null,
      "outputs": []
    },
    {
      "cell_type": "code",
      "metadata": {
        "id": "9Vfk8KMLey6_"
      },
      "source": [
        "df.experiencia.replace(\">20\", '21', inplace=True)\n",
        "df.experiencia.replace(\"<1\", '0', inplace=True)\n",
        "df[\"experiencia\"] = pd.to_numeric(df[\"experiencia\"])\n",
        "df.experiencia.fillna(df.experiencia.mean(), inplace=True)"
      ],
      "execution_count": null,
      "outputs": []
    },
    {
      "cell_type": "code",
      "metadata": {
        "id": "Qysqtc0PjKh1"
      },
      "source": [
        "df.universidad_matriculado.fillna('No definido', inplace=True)\n",
        "df.nivel_educacion.fillna('No definido', inplace=True)\n",
        "df.educacion.fillna('No definido', inplace=True)\n",
        "df.tipo_compania.fillna('No definido', inplace=True)\n",
        "df.genero.fillna('Female', inplace=True)"
      ],
      "execution_count": null,
      "outputs": []
    },
    {
      "cell_type": "markdown",
      "metadata": {
        "id": "THYoICy4Muc8"
      },
      "source": [
        "### Funciones del *Dashboard*"
      ]
    },
    {
      "cell_type": "code",
      "metadata": {
        "id": "PbEJza_6Hs6m"
      },
      "source": [
        "def drawFigure(id_fig, fig):\n",
        "    return  html.Div([\n",
        "        dbc.Card(\n",
        "            dbc.CardBody([         \n",
        "                dcc.Graph(\n",
        "                    id=id_fig,\n",
        "                    figure=fig,\n",
        "                    config={\n",
        "                        'displayModeBar': False\n",
        "                    }\n",
        "                ) \n",
        "            ])\n",
        "        ),  \n",
        "    ])"
      ],
      "execution_count": null,
      "outputs": []
    },
    {
      "cell_type": "code",
      "metadata": {
        "id": "BAyA9vbgJ3Sq"
      },
      "source": [
        "def drawTextH1(text):\n",
        "    return html.Div([\n",
        "        dbc.Card(\n",
        "            dbc.CardBody([\n",
        "                html.Div([\n",
        "                    html.H1(children=text, className=\"text-white\"),\n",
        "                ] , style={'textAlign': 'center'}) \n",
        "            ]), className=\"card text-white bg-primary  mb-3\"\n",
        "        ),\n",
        "    ])\n",
        "\n",
        "def drawTextH3(text):\n",
        "    return html.Div([\n",
        "        dbc.Card(\n",
        "            dbc.CardBody([\n",
        "                html.Div([\n",
        "                    html.H3(text, className=\"text-white\"),\n",
        "                ], style={'textAlign': 'center'}) \n",
        "            ]), className=\"card text-white bg-dark  mb-3\"\n",
        "        ),\n",
        "    ])\n",
        "\n",
        "def drawTextP(text):\n",
        "    return html.Div([\n",
        "        dbc.Card(\n",
        "            dbc.CardBody([\n",
        "                html.Div([\n",
        "                    html.P(text),\n",
        "                ], style={'textAlign': 'left'}) \n",
        "            ])\n",
        "        ),\n",
        "    ])"
      ],
      "execution_count": null,
      "outputs": []
    },
    {
      "cell_type": "markdown",
      "metadata": {
        "id": "iWSk6swDM2yp"
      },
      "source": [
        "### Creación estructura del *Dashboard*"
      ]
    },
    {
      "cell_type": "code",
      "metadata": {
        "id": "HUONyyWJF5DV"
      },
      "source": [
        "# Build App\n",
        "app = JupyterDash(external_stylesheets=[dbc.themes.LUX])\n",
        "\n",
        "# Sección global\n",
        "app.layout = html.Div([\n",
        "    dbc.Card(\n",
        "        dbc.CardBody([\n",
        "            # Sección superior\n",
        "            dbc.Row([\n",
        "              dbc.Col(drawTextH1(\"Dashboard - TFM\"))   \n",
        "            ]),\n",
        "            html.Br(),\n",
        "            dbc.Row([\n",
        "                     dbc.Col([drawTextH3('Cantidad de ejemplos según nivel de educación')]),\n",
        "                     dbc.Col([drawTextH3('Género')])    \n",
        "            ]),\n",
        "            dbc.Row([\n",
        "                     dbc.Col([drawTextP('''En esta gráfica se muestra la cantidad de personas que contempla el dataset según el nivel de educación. ''')]),\n",
        "                     dbc.Col([drawTextP('''Distribución según el género de los ejemplos del conjunto de datos.''')])    \n",
        "            ]),\n",
        "            html.Br(),\n",
        "            dbc.Row([\n",
        "                # Subseccion 1 - Seccion Principal\n",
        "                dbc.Col([\n",
        "                    drawFigure('graph-1', px.pie(df, values=df.nivel_educacion.value_counts(dropna=False), names=df.nivel_educacion.unique(), template=TEMPLATE, color_discrete_sequence=COLORMAP))\n",
        "                ]),\n",
        "\n",
        "                # Subseccion 2 - Seccion Principal\n",
        "                dbc.Col([\n",
        "                    drawFigure('graph-2', px.bar(df, y=df.genero.value_counts(dropna=False), x=df.genero.unique(), color=df.genero.unique(), template=TEMPLATE, color_discrete_sequence=COLORMAP))\n",
        "                ]),\n",
        "            ], align='center'), \n",
        "\t\t\t\n",
        "            html.Br(),\n",
        "\n",
        "            # Sección intermedia\n",
        "            dbc.Row([\n",
        "                     dbc.Col([drawTextH3('Distribución jerarquizada de la educación')]),\n",
        "                     dbc.Col([drawTextH3('Media de la experiencia según el tipo de educación')])      \n",
        "            ]),\n",
        "            dbc.Row([\n",
        "                     dbc.Col([drawTextP('''En esta sección se muestra un gráfico de sunburst. En este tipo de gráficos se muestran de forma jerarquizada un conjunto de variables determinada.\n",
        "                     En este caso, se muestran si la persona está matriculado, a que nivel educativo y en que tipo de rama se encuentra. Además, para cada grupo se muestran las horas totales de formación. \n",
        "                     Esto permite comparar entre disciplinas distintas y la cantidad de tiempo invertido en adquirir un mayor conocimiento. ''')]),\n",
        "                     dbc.Col([drawTextP('''Por otro lado, en esta gráfica se muestra la media de experiencia para cada disciplina de conocimiento. ''')]),     \n",
        "            ]),\n",
        "            html.Br(),\n",
        "            dbc.Row([\n",
        "                dbc.Col([\n",
        "                    drawFigure('graph-3', px.sunburst(df, path=['universidad_matriculado','nivel_educacion', 'educacion'], values='horas_formacion', template=TEMPLATE, color_discrete_sequence=COLORMAP))\n",
        "                ]),\n",
        "                dbc.Col([\n",
        "                    drawFigure('graph-4', px.bar(df, y=df.groupby('educacion').experiencia.mean(), x=df.educacion.unique(), color=df.educacion.unique(), template=TEMPLATE, color_discrete_sequence=COLORMAP))\n",
        "                ])\n",
        "            ], align='center'), \n",
        "\t\t\t\n",
        "            html.Br(),\n",
        "\n",
        "            # Sección inferior\n",
        "            dbc.Row([\n",
        "                     dbc.Col([drawTextH3('Distribución de la variable objetivo')])    \n",
        "            ]),\n",
        "            dbc.Row([\n",
        "                     dbc.Col([drawTextP('''En esta gráfica se muestra simplemente un conteo de la cantidad de ejemplos disponibles para cada valor de la variable dependiente. ''')])    \n",
        "            ]),\n",
        "            html.Br(),\n",
        "            dbc.Row([\n",
        "                dbc.Col([\n",
        "                    drawFigure('graph-5', px.pie(df, values=df.target.value_counts(dropna=False), names=df.target.unique(), template=TEMPLATE, color_discrete_sequence=COLORMAP))\n",
        "                ])\n",
        "            ], align='center'),\n",
        "\t\t\t\n",
        "        ]), color = 'light'\n",
        "    )\n",
        "])"
      ],
      "execution_count": null,
      "outputs": []
    },
    {
      "cell_type": "markdown",
      "metadata": {
        "id": "LTduQfBGM9G4"
      },
      "source": [
        "### Ejecución del *Dashboard*"
      ]
    },
    {
      "cell_type": "code",
      "metadata": {
        "colab": {
          "base_uri": "https://localhost:8080/",
          "height": 705
        },
        "id": "DhEivSn0oHmi",
        "outputId": "b464323b-c773-445c-e8fa-4cde371846b8"
      },
      "source": [
        "# Run app and display result inline in the notebook\n",
        "app.run_server(mode='external')\n",
        "app.run_server(mode='inline')"
      ],
      "execution_count": null,
      "outputs": [
        {
          "output_type": "stream",
          "text": [
            "Dash app running on:\n"
          ],
          "name": "stdout"
        },
        {
          "output_type": "display_data",
          "data": {
            "application/javascript": [
              "(async (port, path, text, element) => {\n",
              "    if (!google.colab.kernel.accessAllowed) {\n",
              "      return;\n",
              "    }\n",
              "    element.appendChild(document.createTextNode(''));\n",
              "    const url = await google.colab.kernel.proxyPort(port);\n",
              "    const anchor = document.createElement('a');\n",
              "    anchor.href = new URL(path, url).toString();\n",
              "    anchor.target = '_blank';\n",
              "    anchor.setAttribute('data-href', url + path);\n",
              "    anchor.textContent = text;\n",
              "    element.appendChild(anchor);\n",
              "  })(8050, \"/\", \"http://127.0.0.1:8050/\", window.element)"
            ],
            "text/plain": [
              "<IPython.core.display.Javascript object>"
            ]
          },
          "metadata": {
            "tags": []
          }
        },
        {
          "output_type": "display_data",
          "data": {
            "application/javascript": [
              "(async (port, path, width, height, cache, element) => {\n",
              "    if (!google.colab.kernel.accessAllowed && !cache) {\n",
              "      return;\n",
              "    }\n",
              "    element.appendChild(document.createTextNode(''));\n",
              "    const url = await google.colab.kernel.proxyPort(port, {cache});\n",
              "    const iframe = document.createElement('iframe');\n",
              "    iframe.src = new URL(path, url).toString();\n",
              "    iframe.height = height;\n",
              "    iframe.width = width;\n",
              "    iframe.style.border = 0;\n",
              "    element.appendChild(iframe);\n",
              "  })(8050, \"/\", \"100%\", 650, false, window.element)"
            ],
            "text/plain": [
              "<IPython.core.display.Javascript object>"
            ]
          },
          "metadata": {
            "tags": []
          }
        }
      ]
    }
  ]
}